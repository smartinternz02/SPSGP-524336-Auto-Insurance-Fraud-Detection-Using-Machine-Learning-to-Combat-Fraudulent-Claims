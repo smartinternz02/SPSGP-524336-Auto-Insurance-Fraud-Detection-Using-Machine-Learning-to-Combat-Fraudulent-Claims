{
 "cells": [
  {
   "cell_type": "code",
   "execution_count": 1,
   "id": "9e66fb5c",
   "metadata": {
    "executionInfo": {
     "elapsed": 388,
     "status": "ok",
     "timestamp": 1685257540225,
     "user": {
      "displayName": "charan mohan",
      "userId": "10524277483295619477"
     },
     "user_tz": -330
    },
    "id": "9e66fb5c"
   },
   "outputs": [],
   "source": [
    "#Load the Dataset\n",
    "import pandas as pd \n",
    "import numpy as np\n",
    "import matplotlib.pyplot as plt"
   ]
  },
  {
   "cell_type": "code",
   "execution_count": 2,
   "id": "4f123164",
   "metadata": {
    "executionInfo": {
     "elapsed": 381,
     "status": "ok",
     "timestamp": 1685257543219,
     "user": {
      "displayName": "charan mohan",
      "userId": "10524277483295619477"
     },
     "user_tz": -330
    },
    "id": "4f123164"
   },
   "outputs": [],
   "source": [
    "df=pd.read_csv('titanic.csv')"
   ]
  },
  {
   "cell_type": "code",
   "execution_count": 3,
   "id": "60f9966e",
   "metadata": {
    "colab": {
     "base_uri": "https://localhost:8080/",
     "height": 423
    },
    "executionInfo": {
     "elapsed": 616,
     "status": "ok",
     "timestamp": 1685257545796,
     "user": {
      "displayName": "charan mohan",
      "userId": "10524277483295619477"
     },
     "user_tz": -330
    },
    "id": "60f9966e",
    "outputId": "9689269c-822f-46f0-b788-02a1eeb5eeae"
   },
   "outputs": [
    {
     "data": {
      "text/html": [
       "<div>\n",
       "<style scoped>\n",
       "    .dataframe tbody tr th:only-of-type {\n",
       "        vertical-align: middle;\n",
       "    }\n",
       "\n",
       "    .dataframe tbody tr th {\n",
       "        vertical-align: top;\n",
       "    }\n",
       "\n",
       "    .dataframe thead th {\n",
       "        text-align: right;\n",
       "    }\n",
       "</style>\n",
       "<table border=\"1\" class=\"dataframe\">\n",
       "  <thead>\n",
       "    <tr style=\"text-align: right;\">\n",
       "      <th></th>\n",
       "      <th>survived</th>\n",
       "      <th>pclass</th>\n",
       "      <th>sex</th>\n",
       "      <th>age</th>\n",
       "      <th>sibsp</th>\n",
       "      <th>parch</th>\n",
       "      <th>fare</th>\n",
       "      <th>embarked</th>\n",
       "      <th>class</th>\n",
       "      <th>who</th>\n",
       "      <th>adult_male</th>\n",
       "      <th>deck</th>\n",
       "      <th>embark_town</th>\n",
       "      <th>alive</th>\n",
       "      <th>alone</th>\n",
       "    </tr>\n",
       "  </thead>\n",
       "  <tbody>\n",
       "    <tr>\n",
       "      <th>0</th>\n",
       "      <td>0</td>\n",
       "      <td>3</td>\n",
       "      <td>male</td>\n",
       "      <td>22.0</td>\n",
       "      <td>1</td>\n",
       "      <td>0</td>\n",
       "      <td>7.2500</td>\n",
       "      <td>S</td>\n",
       "      <td>Third</td>\n",
       "      <td>man</td>\n",
       "      <td>True</td>\n",
       "      <td>NaN</td>\n",
       "      <td>Southampton</td>\n",
       "      <td>no</td>\n",
       "      <td>False</td>\n",
       "    </tr>\n",
       "    <tr>\n",
       "      <th>1</th>\n",
       "      <td>1</td>\n",
       "      <td>1</td>\n",
       "      <td>female</td>\n",
       "      <td>38.0</td>\n",
       "      <td>1</td>\n",
       "      <td>0</td>\n",
       "      <td>71.2833</td>\n",
       "      <td>C</td>\n",
       "      <td>First</td>\n",
       "      <td>woman</td>\n",
       "      <td>False</td>\n",
       "      <td>C</td>\n",
       "      <td>Cherbourg</td>\n",
       "      <td>yes</td>\n",
       "      <td>False</td>\n",
       "    </tr>\n",
       "    <tr>\n",
       "      <th>2</th>\n",
       "      <td>1</td>\n",
       "      <td>3</td>\n",
       "      <td>female</td>\n",
       "      <td>26.0</td>\n",
       "      <td>0</td>\n",
       "      <td>0</td>\n",
       "      <td>7.9250</td>\n",
       "      <td>S</td>\n",
       "      <td>Third</td>\n",
       "      <td>woman</td>\n",
       "      <td>False</td>\n",
       "      <td>NaN</td>\n",
       "      <td>Southampton</td>\n",
       "      <td>yes</td>\n",
       "      <td>True</td>\n",
       "    </tr>\n",
       "    <tr>\n",
       "      <th>3</th>\n",
       "      <td>1</td>\n",
       "      <td>1</td>\n",
       "      <td>female</td>\n",
       "      <td>35.0</td>\n",
       "      <td>1</td>\n",
       "      <td>0</td>\n",
       "      <td>53.1000</td>\n",
       "      <td>S</td>\n",
       "      <td>First</td>\n",
       "      <td>woman</td>\n",
       "      <td>False</td>\n",
       "      <td>C</td>\n",
       "      <td>Southampton</td>\n",
       "      <td>yes</td>\n",
       "      <td>False</td>\n",
       "    </tr>\n",
       "    <tr>\n",
       "      <th>4</th>\n",
       "      <td>0</td>\n",
       "      <td>3</td>\n",
       "      <td>male</td>\n",
       "      <td>35.0</td>\n",
       "      <td>0</td>\n",
       "      <td>0</td>\n",
       "      <td>8.0500</td>\n",
       "      <td>S</td>\n",
       "      <td>Third</td>\n",
       "      <td>man</td>\n",
       "      <td>True</td>\n",
       "      <td>NaN</td>\n",
       "      <td>Southampton</td>\n",
       "      <td>no</td>\n",
       "      <td>True</td>\n",
       "    </tr>\n",
       "    <tr>\n",
       "      <th>...</th>\n",
       "      <td>...</td>\n",
       "      <td>...</td>\n",
       "      <td>...</td>\n",
       "      <td>...</td>\n",
       "      <td>...</td>\n",
       "      <td>...</td>\n",
       "      <td>...</td>\n",
       "      <td>...</td>\n",
       "      <td>...</td>\n",
       "      <td>...</td>\n",
       "      <td>...</td>\n",
       "      <td>...</td>\n",
       "      <td>...</td>\n",
       "      <td>...</td>\n",
       "      <td>...</td>\n",
       "    </tr>\n",
       "    <tr>\n",
       "      <th>886</th>\n",
       "      <td>0</td>\n",
       "      <td>2</td>\n",
       "      <td>male</td>\n",
       "      <td>27.0</td>\n",
       "      <td>0</td>\n",
       "      <td>0</td>\n",
       "      <td>13.0000</td>\n",
       "      <td>S</td>\n",
       "      <td>Second</td>\n",
       "      <td>man</td>\n",
       "      <td>True</td>\n",
       "      <td>NaN</td>\n",
       "      <td>Southampton</td>\n",
       "      <td>no</td>\n",
       "      <td>True</td>\n",
       "    </tr>\n",
       "    <tr>\n",
       "      <th>887</th>\n",
       "      <td>1</td>\n",
       "      <td>1</td>\n",
       "      <td>female</td>\n",
       "      <td>19.0</td>\n",
       "      <td>0</td>\n",
       "      <td>0</td>\n",
       "      <td>30.0000</td>\n",
       "      <td>S</td>\n",
       "      <td>First</td>\n",
       "      <td>woman</td>\n",
       "      <td>False</td>\n",
       "      <td>B</td>\n",
       "      <td>Southampton</td>\n",
       "      <td>yes</td>\n",
       "      <td>True</td>\n",
       "    </tr>\n",
       "    <tr>\n",
       "      <th>888</th>\n",
       "      <td>0</td>\n",
       "      <td>3</td>\n",
       "      <td>female</td>\n",
       "      <td>NaN</td>\n",
       "      <td>1</td>\n",
       "      <td>2</td>\n",
       "      <td>23.4500</td>\n",
       "      <td>S</td>\n",
       "      <td>Third</td>\n",
       "      <td>woman</td>\n",
       "      <td>False</td>\n",
       "      <td>NaN</td>\n",
       "      <td>Southampton</td>\n",
       "      <td>no</td>\n",
       "      <td>False</td>\n",
       "    </tr>\n",
       "    <tr>\n",
       "      <th>889</th>\n",
       "      <td>1</td>\n",
       "      <td>1</td>\n",
       "      <td>male</td>\n",
       "      <td>26.0</td>\n",
       "      <td>0</td>\n",
       "      <td>0</td>\n",
       "      <td>30.0000</td>\n",
       "      <td>C</td>\n",
       "      <td>First</td>\n",
       "      <td>man</td>\n",
       "      <td>True</td>\n",
       "      <td>C</td>\n",
       "      <td>Cherbourg</td>\n",
       "      <td>yes</td>\n",
       "      <td>True</td>\n",
       "    </tr>\n",
       "    <tr>\n",
       "      <th>890</th>\n",
       "      <td>0</td>\n",
       "      <td>3</td>\n",
       "      <td>male</td>\n",
       "      <td>32.0</td>\n",
       "      <td>0</td>\n",
       "      <td>0</td>\n",
       "      <td>7.7500</td>\n",
       "      <td>Q</td>\n",
       "      <td>Third</td>\n",
       "      <td>man</td>\n",
       "      <td>True</td>\n",
       "      <td>NaN</td>\n",
       "      <td>Queenstown</td>\n",
       "      <td>no</td>\n",
       "      <td>True</td>\n",
       "    </tr>\n",
       "  </tbody>\n",
       "</table>\n",
       "<p>891 rows × 15 columns</p>\n",
       "</div>"
      ],
      "text/plain": [
       "     survived  pclass     sex   age  sibsp  parch     fare embarked   class  \\\n",
       "0           0       3    male  22.0      1      0   7.2500        S   Third   \n",
       "1           1       1  female  38.0      1      0  71.2833        C   First   \n",
       "2           1       3  female  26.0      0      0   7.9250        S   Third   \n",
       "3           1       1  female  35.0      1      0  53.1000        S   First   \n",
       "4           0       3    male  35.0      0      0   8.0500        S   Third   \n",
       "..        ...     ...     ...   ...    ...    ...      ...      ...     ...   \n",
       "886         0       2    male  27.0      0      0  13.0000        S  Second   \n",
       "887         1       1  female  19.0      0      0  30.0000        S   First   \n",
       "888         0       3  female   NaN      1      2  23.4500        S   Third   \n",
       "889         1       1    male  26.0      0      0  30.0000        C   First   \n",
       "890         0       3    male  32.0      0      0   7.7500        Q   Third   \n",
       "\n",
       "       who  adult_male deck  embark_town alive  alone  \n",
       "0      man        True  NaN  Southampton    no  False  \n",
       "1    woman       False    C    Cherbourg   yes  False  \n",
       "2    woman       False  NaN  Southampton   yes   True  \n",
       "3    woman       False    C  Southampton   yes  False  \n",
       "4      man        True  NaN  Southampton    no   True  \n",
       "..     ...         ...  ...          ...   ...    ...  \n",
       "886    man        True  NaN  Southampton    no   True  \n",
       "887  woman       False    B  Southampton   yes   True  \n",
       "888  woman       False  NaN  Southampton    no  False  \n",
       "889    man        True    C    Cherbourg   yes   True  \n",
       "890    man        True  NaN   Queenstown    no   True  \n",
       "\n",
       "[891 rows x 15 columns]"
      ]
     },
     "execution_count": 3,
     "metadata": {},
     "output_type": "execute_result"
    }
   ],
   "source": [
    "df\n"
   ]
  },
  {
   "cell_type": "code",
   "execution_count": 4,
   "id": "gQj64klAjCo1",
   "metadata": {
    "colab": {
     "base_uri": "https://localhost:8080/"
    },
    "executionInfo": {
     "elapsed": 369,
     "status": "ok",
     "timestamp": 1685257549377,
     "user": {
      "displayName": "charan mohan",
      "userId": "10524277483295619477"
     },
     "user_tz": -330
    },
    "id": "gQj64klAjCo1",
    "outputId": "fac01422-9d14-4f7c-eec6-0e347d48b896"
   },
   "outputs": [
    {
     "name": "stdout",
     "output_type": "stream",
     "text": [
      "     survived  pclass     sex   age  sibsp  parch     fare embarked   class  \\\n",
      "0           0       3    male  22.0      1      0   7.2500        S   Third   \n",
      "1           1       1  female  38.0      1      0  71.2833        C   First   \n",
      "2           1       3  female  26.0      0      0   7.9250        S   Third   \n",
      "3           1       1  female  35.0      1      0  53.1000        S   First   \n",
      "4           0       3    male  35.0      0      0   8.0500        S   Third   \n",
      "..        ...     ...     ...   ...    ...    ...      ...      ...     ...   \n",
      "886         0       2    male  27.0      0      0  13.0000        S  Second   \n",
      "887         1       1  female  19.0      0      0  30.0000        S   First   \n",
      "888         0       3  female   NaN      1      2  23.4500        S   Third   \n",
      "889         1       1    male  26.0      0      0  30.0000        C   First   \n",
      "890         0       3    male  32.0      0      0   7.7500        Q   Third   \n",
      "\n",
      "       who  adult_male deck  embark_town alive  alone  \n",
      "0      man        True  NaN  Southampton    no  False  \n",
      "1    woman       False    C    Cherbourg   yes  False  \n",
      "2    woman       False  NaN  Southampton   yes   True  \n",
      "3    woman       False    C  Southampton   yes  False  \n",
      "4      man        True  NaN  Southampton    no   True  \n",
      "..     ...         ...  ...          ...   ...    ...  \n",
      "886    man        True  NaN  Southampton    no   True  \n",
      "887  woman       False    B  Southampton   yes   True  \n",
      "888  woman       False  NaN  Southampton    no  False  \n",
      "889    man        True    C    Cherbourg   yes   True  \n",
      "890    man        True  NaN   Queenstown    no   True  \n",
      "\n",
      "[891 rows x 15 columns]\n"
     ]
    }
   ],
   "source": [
    "print(df)"
   ]
  },
  {
   "cell_type": "code",
   "execution_count": 5,
   "id": "fb2c1fd8",
   "metadata": {
    "executionInfo": {
     "elapsed": 8,
     "status": "ok",
     "timestamp": 1685257552814,
     "user": {
      "displayName": "charan mohan",
      "userId": "10524277483295619477"
     },
     "user_tz": -330
    },
    "id": "fb2c1fd8"
   },
   "outputs": [],
   "source": [
    "#Perform Below Visualizations.\n",
    "#● Univariate Analysis(Histogram, box plot, Pie chart)\n",
    "#● Bi - Variate Analysis(Scatter plot, Line chart, Bar chart)\n",
    "#● Multi - Variate Analysis(Tree map, 3D Scatter plot, Heat map)"
   ]
  },
  {
   "cell_type": "code",
   "execution_count": 6,
   "id": "0ef889e7",
   "metadata": {
    "colab": {
     "base_uri": "https://localhost:8080/",
     "height": 472
    },
    "executionInfo": {
     "elapsed": 477,
     "status": "ok",
     "timestamp": 1685256898658,
     "user": {
      "displayName": "charan mohan",
      "userId": "10524277483295619477"
     },
     "user_tz": -330
    },
    "id": "0ef889e7",
    "outputId": "617bd3bd-04cd-4d0f-f4ed-dce23e4a5110"
   },
   "outputs": [
    {
     "data": {
      "image/png": "[encoded data removed]",
      "text/plain": [
       "<Figure size 432x288 with 1 Axes>"
      ]
     },
     "metadata": {
      "needs_background": "light"
     },
     "output_type": "display_data"
    }
   ],
   "source": [
    "# Univariate analysis\n",
    "# Histogram\n",
    "plt.hist(df['survived'], bins=10)\n",
    "plt.title('Histogram of survived')\n",
    "plt.xlabel('survived')\n",
    "plt.ylabel('Frequency')\n",
    "plt.show()\n"
   ]
  },
  {
   "cell_type": "code",
   "execution_count": 7,
   "id": "d6be398d",
   "metadata": {
    "colab": {
     "base_uri": "https://localhost:8080/",
     "height": 472
    },
    "executionInfo": {
     "elapsed": 451,
     "status": "ok",
     "timestamp": 1685256902300,
     "user": {
      "displayName": "charan mohan",
      "userId": "10524277483295619477"
     },
     "user_tz": -330
    },
    "id": "d6be398d",
    "outputId": "809be469-4899-48c6-81fb-8ad58c4b85de"
   },
   "outputs": [
    {
     "data": {
      "image/png": "[encoded data removed]",
      "text/plain": [
       "<Figure size 432x288 with 1 Axes>"
      ]
     },
     "metadata": {
      "needs_background": "light"
     },
     "output_type": "display_data"
    }
   ],
   "source": [
    "# Boxplot\n",
    "plt.boxplot(df['survived'])\n",
    "plt.title('Boxplot of survived')\n",
    "plt.xlabel('survived)')\n",
    "plt.ylabel('Value')\n",
    "plt.show()"
   ]
  },
  {
   "cell_type": "code",
   "execution_count": 8,
   "id": "f6be7fe6",
   "metadata": {
    "colab": {
     "base_uri": "https://localhost:8080/",
     "height": 428
    },
    "executionInfo": {
     "elapsed": 449,
     "status": "ok",
     "timestamp": 1685256906338,
     "user": {
      "displayName": "charan mohan",
      "userId": "10524277483295619477"
     },
     "user_tz": -330
    },
    "id": "f6be7fe6",
    "outputId": "c4e78070-11d1-44bd-9201-7d87c663dda0"
   },
   "outputs": [
    {
     "data": {
      "image/png": "[encoded data removed]",
      "text/plain": [
       "<Figure size 432x288 with 1 Axes>"
      ]
     },
     "metadata": {},
     "output_type": "display_data"
    }
   ],
   "source": [
    "#Pie Chart\n",
    "plt.pie(df['survived'].value_counts(), labels=df['survived'].unique())\n",
    "plt.title('Pie Chart of survived')\n",
    "plt.show()"
   ]
  },
  {
   "cell_type": "code",
   "execution_count": 9,
   "id": "9a39795a",
   "metadata": {
    "colab": {
     "base_uri": "https://localhost:8080/",
     "height": 472
    },
    "executionInfo": {
     "elapsed": 497,
     "status": "ok",
     "timestamp": 1685256909900,
     "user": {
      "displayName": "charan mohan",
      "userId": "10524277483295619477"
     },
     "user_tz": -330
    },
    "id": "9a39795a",
    "outputId": "77fd4763-1084-4538-df0b-5e79fedfb5f3"
   },
   "outputs": [
    {
     "data": {
      "image/png": "[encoded data removed]",
      "text/plain": [
       "<Figure size 432x288 with 1 Axes>"
      ]
     },
     "metadata": {
      "needs_background": "light"
     },
     "output_type": "display_data"
    }
   ],
   "source": [
    "# Bivariate analysis\n",
    "# Scatterplot\n",
    "plt.scatter(df['survived'], df['alone'])\n",
    "plt.title('Scatterplot of survived and alone')\n",
    "plt.xlabel('survived')\n",
    "plt.ylabel('alone')\n",
    "plt.show()\n"
   ]
  },
  {
   "cell_type": "code",
   "execution_count": 10,
   "id": "6f4705f6",
   "metadata": {
    "colab": {
     "base_uri": "https://localhost:8080/",
     "height": 472
    },
    "executionInfo": {
     "elapsed": 481,
     "status": "ok",
     "timestamp": 1685256913746,
     "user": {
      "displayName": "charan mohan",
      "userId": "10524277483295619477"
     },
     "user_tz": -330
    },
    "id": "6f4705f6",
    "outputId": "77061acc-8b20-4fe9-f6aa-2847008d977f"
   },
   "outputs": [
    {
     "data": {
      "image/png": "[encoded data removed]",
      "text/plain": [
       "<Figure size 432x288 with 1 Axes>"
      ]
     },
     "metadata": {
      "needs_background": "light"
     },
     "output_type": "display_data"
    }
   ],
   "source": [
    "# Line chart\n",
    "plt.plot(df['survived'], df['alone'], 'o-')\n",
    "plt.title('Line Chart of survived and alone')\n",
    "plt.xlabel('survived')\n",
    "plt.ylabel('alone')\n",
    "plt.show()"
   ]
  },
  {
   "cell_type": "code",
   "execution_count": 11,
   "id": "ffe354ea",
   "metadata": {
    "colab": {
     "base_uri": "https://localhost:8080/",
     "height": 472
    },
    "executionInfo": {
     "elapsed": 465,
     "status": "ok",
     "timestamp": 1685256917420,
     "user": {
      "displayName": "charan mohan",
      "userId": "10524277483295619477"
     },
     "user_tz": -330
    },
    "id": "ffe354ea",
    "outputId": "d946b80f-bc8d-4855-8eed-17d67d2bab76"
   },
   "outputs": [
    {
     "data": {
      "image/png": "[encoded data removed]",
      "text/plain": [
       "<Figure size 432x288 with 1 Axes>"
      ]
     },
     "metadata": {
      "needs_background": "light"
     },
     "output_type": "display_data"
    }
   ],
   "source": [
    "# Bar chart\n",
    "plt.bar(df['survived'].unique(), df['alone'].mean(), align='center')\n",
    "plt.title('Bar Chart of Mean alone by survived')\n",
    "plt.xlabel('survived')\n",
    "plt.ylabel('Mean alone')\n",
    "plt.show()"
   ]
  },
  {
   "cell_type": "code",
   "execution_count": 12,
   "id": "031b6401",
   "metadata": {
    "colab": {
     "base_uri": "https://localhost:8080/",
     "height": 553
    },
    "executionInfo": {
     "elapsed": 1754,
     "status": "ok",
     "timestamp": 1685256922610,
     "user": {
      "displayName": "charan mohan",
      "userId": "10524277483295619477"
     },
     "user_tz": -330
    },
    "id": "031b6401",
    "outputId": "bbcff61e-a45b-4081-fce6-21b50d66585b"
   },
   "outputs": [
    {
     "data": {
      "image/png": "[encoded data removed]",
      "text/plain": [
       "<Figure size 432x288 with 2 Axes>"
      ]
     },
     "metadata": {
      "needs_background": "light"
     },
     "output_type": "display_data"
    }
   ],
   "source": [
    "# Multivariate analysis\n",
    "# Heatmap\n",
    "import seaborn as sns\n",
    "df['sex'] = df['sex'].astype('category').cat.codes\n",
    "sns.heatmap(df.corr(), annot=True)\n",
    "plt.show()"
   ]
  },
  {
   "cell_type": "code",
   "execution_count": 13,
   "id": "6c5142f3",
   "metadata": {
    "colab": {
     "base_uri": "https://localhost:8080/",
     "height": 415
    },
    "executionInfo": {
     "elapsed": 724,
     "status": "ok",
     "timestamp": 1685256937856,
     "user": {
      "displayName": "charan mohan",
      "userId": "10524277483295619477"
     },
     "user_tz": -330
    },
    "id": "6c5142f3",
    "outputId": "f6b7e56d-0441-4c7a-fc52-6f21a67521f8"
   },
   "outputs": [
    {
     "data": {
      "image/png": "[encoded data removed]",
      "text/plain": [
       "<Figure size 432x288 with 1 Axes>"
      ]
     },
     "metadata": {
      "needs_background": "light"
     },
     "output_type": "display_data"
    }
   ],
   "source": [
    "# Multivariate analysis\n",
    "# 3D scatterplot\n",
    "from mpl_toolkits.mplot3d import Axes3D\n",
    "x = df['survived']\n",
    "y = df['pclass']\n",
    "z = df['sibsp']\n",
    "fig = plt.figure()\n",
    "ax = fig.add_subplot(111, projection='3d')\n",
    "ax.scatter(x, y, z)\n",
    "ax.set_xlabel('X')\n",
    "ax.set_ylabel('Y')\n",
    "ax.set_zlabel('Z')\n",
    "plt.show()\n"
   ]
  },
  {
   "cell_type": "code",
   "execution_count": 14,
   "id": "14gQvw2PJERQ",
   "metadata": {
    "colab": {
     "base_uri": "https://localhost:8080/"
    },
    "executionInfo": {
     "elapsed": 4941,
     "status": "ok",
     "timestamp": 1685256965534,
     "user": {
      "displayName": "charan mohan",
      "userId": "10524277483295619477"
     },
     "user_tz": -330
    },
    "id": "14gQvw2PJERQ",
    "outputId": "45137b26-877a-457d-888c-2675b935abeb"
   },
   "outputs": [
    {
     "name": "stdout",
     "output_type": "stream",
     "text": [
      "Requirement already satisfied: squarify in c:\\users\\charan teja\\anaconda3\\lib\\site-packages (0.4.3)\n",
      "Note: you may need to restart the kernel to use updated packages.\n"
     ]
    }
   ],
   "source": [
    "pip install squarify"
   ]
  },
  {
   "cell_type": "code",
   "execution_count": 15,
   "id": "30023ecb",
   "metadata": {
    "colab": {
     "base_uri": "https://localhost:8080/",
     "height": 452
    },
    "executionInfo": {
     "elapsed": 938,
     "status": "ok",
     "timestamp": 1685256973912,
     "user": {
      "displayName": "charan mohan",
      "userId": "10524277483295619477"
     },
     "user_tz": -330
    },
    "id": "30023ecb",
    "outputId": "2b80307c-9790-466e-96c7-ad98ee7b3fa6"
   },
   "outputs": [
    {
     "data": {
      "image/png": "[encoded data removed]",
      "text/plain": [
       "<Figure size 432x288 with 1 Axes>"
      ]
     },
     "metadata": {
      "needs_background": "light"
     },
     "output_type": "display_data"
    }
   ],
   "source": [
    "# Treemap\n",
    "import squarify\n",
    "plt.figure()\n",
    "squarify.plot(df['survived'].value_counts(), label=df['survived'].unique())\n",
    "plt.title('Treemap of Survived')\n",
    "plt.show()"
   ]
  },
  {
   "cell_type": "code",
   "execution_count": 16,
   "id": "89a9027a",
   "metadata": {
    "colab": {
     "base_uri": "https://localhost:8080/"
    },
    "executionInfo": {
     "elapsed": 384,
     "status": "ok",
     "timestamp": 1685256985015,
     "user": {
      "displayName": "charan mohan",
      "userId": "10524277483295619477"
     },
     "user_tz": -330
    },
    "id": "89a9027a",
    "outputId": "cec285ac-0d54-4c3a-ca12-cb3dd99fea87"
   },
   "outputs": [
    {
     "name": "stdout",
     "output_type": "stream",
     "text": [
      "<class 'pandas.core.frame.DataFrame'>\n",
      "RangeIndex: 891 entries, 0 to 890\n",
      "Data columns (total 15 columns):\n",
      " #   Column       Non-Null Count  Dtype  \n",
      "---  ------       --------------  -----  \n",
      " 0   survived     891 non-null    int64  \n",
      " 1   pclass       891 non-null    int64  \n",
      " 2   sex          891 non-null    int8   \n",
      " 3   age          714 non-null    float64\n",
      " 4   sibsp        891 non-null    int64  \n",
      " 5   parch        891 non-null    int64  \n",
      " 6   fare         891 non-null    float64\n",
      " 7   embarked     889 non-null    object \n",
      " 8   class        891 non-null    object \n",
      " 9   who          891 non-null    object \n",
      " 10  adult_male   891 non-null    bool   \n",
      " 11  deck         203 non-null    object \n",
      " 12  embark_town  889 non-null    object \n",
      " 13  alive        891 non-null    object \n",
      " 14  alone        891 non-null    bool   \n",
      "dtypes: bool(2), float64(2), int64(4), int8(1), object(6)\n",
      "memory usage: 86.3+ KB\n"
     ]
    }
   ],
   "source": [
    "# 4.Perform descriptive statistics on the dataset \n",
    "df.info()\n"
   ]
  },
  {
   "cell_type": "code",
   "execution_count": 17,
   "id": "54803638",
   "metadata": {
    "colab": {
     "base_uri": "https://localhost:8080/",
     "height": 300
    },
    "executionInfo": {
     "elapsed": 656,
     "status": "ok",
     "timestamp": 1685256988818,
     "user": {
      "displayName": "charan mohan",
      "userId": "10524277483295619477"
     },
     "user_tz": -330
    },
    "id": "54803638",
    "outputId": "995b1b72-1cb6-4390-d3ed-4ddf3117bba2"
   },
   "outputs": [
    {
     "data": {
      "text/html": [
       "<div>\n",
       "<style scoped>\n",
       "    .dataframe tbody tr th:only-of-type {\n",
       "        vertical-align: middle;\n",
       "    }\n",
       "\n",
       "    .dataframe tbody tr th {\n",
       "        vertical-align: top;\n",
       "    }\n",
       "\n",
       "    .dataframe thead th {\n",
       "        text-align: right;\n",
       "    }\n",
       "</style>\n",
       "<table border=\"1\" class=\"dataframe\">\n",
       "  <thead>\n",
       "    <tr style=\"text-align: right;\">\n",
       "      <th></th>\n",
       "      <th>survived</th>\n",
       "      <th>pclass</th>\n",
       "      <th>sex</th>\n",
       "      <th>age</th>\n",
       "      <th>sibsp</th>\n",
       "      <th>parch</th>\n",
       "      <th>fare</th>\n",
       "    </tr>\n",
       "  </thead>\n",
       "  <tbody>\n",
       "    <tr>\n",
       "      <th>count</th>\n",
       "      <td>891.000000</td>\n",
       "      <td>891.000000</td>\n",
       "      <td>891.000000</td>\n",
       "      <td>714.000000</td>\n",
       "      <td>891.000000</td>\n",
       "      <td>891.000000</td>\n",
       "      <td>891.000000</td>\n",
       "    </tr>\n",
       "    <tr>\n",
       "      <th>mean</th>\n",
       "      <td>0.383838</td>\n",
       "      <td>2.308642</td>\n",
       "      <td>0.647587</td>\n",
       "      <td>29.699118</td>\n",
       "      <td>0.523008</td>\n",
       "      <td>0.381594</td>\n",
       "      <td>32.204208</td>\n",
       "    </tr>\n",
       "    <tr>\n",
       "      <th>std</th>\n",
       "      <td>0.486592</td>\n",
       "      <td>0.836071</td>\n",
       "      <td>0.477990</td>\n",
       "      <td>14.526497</td>\n",
       "      <td>1.102743</td>\n",
       "      <td>0.806057</td>\n",
       "      <td>49.693429</td>\n",
       "    </tr>\n",
       "    <tr>\n",
       "      <th>min</th>\n",
       "      <td>0.000000</td>\n",
       "      <td>1.000000</td>\n",
       "      <td>0.000000</td>\n",
       "      <td>0.420000</td>\n",
       "      <td>0.000000</td>\n",
       "      <td>0.000000</td>\n",
       "      <td>0.000000</td>\n",
       "    </tr>\n",
       "    <tr>\n",
       "      <th>25%</th>\n",
       "      <td>0.000000</td>\n",
       "      <td>2.000000</td>\n",
       "      <td>0.000000</td>\n",
       "      <td>20.125000</td>\n",
       "      <td>0.000000</td>\n",
       "      <td>0.000000</td>\n",
       "      <td>7.910400</td>\n",
       "    </tr>\n",
       "    <tr>\n",
       "      <th>50%</th>\n",
       "      <td>0.000000</td>\n",
       "      <td>3.000000</td>\n",
       "      <td>1.000000</td>\n",
       "      <td>28.000000</td>\n",
       "      <td>0.000000</td>\n",
       "      <td>0.000000</td>\n",
       "      <td>14.454200</td>\n",
       "    </tr>\n",
       "    <tr>\n",
       "      <th>75%</th>\n",
       "      <td>1.000000</td>\n",
       "      <td>3.000000</td>\n",
       "      <td>1.000000</td>\n",
       "      <td>38.000000</td>\n",
       "      <td>1.000000</td>\n",
       "      <td>0.000000</td>\n",
       "      <td>31.000000</td>\n",
       "    </tr>\n",
       "    <tr>\n",
       "      <th>max</th>\n",
       "      <td>1.000000</td>\n",
       "      <td>3.000000</td>\n",
       "      <td>1.000000</td>\n",
       "      <td>80.000000</td>\n",
       "      <td>8.000000</td>\n",
       "      <td>6.000000</td>\n",
       "      <td>512.329200</td>\n",
       "    </tr>\n",
       "  </tbody>\n",
       "</table>\n",
       "</div>"
      ],
      "text/plain": [
       "         survived      pclass         sex         age       sibsp       parch  \\\n",
       "count  891.000000  891.000000  891.000000  714.000000  891.000000  891.000000   \n",
       "mean     0.383838    2.308642    0.647587   29.699118    0.523008    0.381594   \n",
       "std      0.486592    0.836071    0.477990   14.526497    1.102743    0.806057   \n",
       "min      0.000000    1.000000    0.000000    0.420000    0.000000    0.000000   \n",
       "25%      0.000000    2.000000    0.000000   20.125000    0.000000    0.000000   \n",
       "50%      0.000000    3.000000    1.000000   28.000000    0.000000    0.000000   \n",
       "75%      1.000000    3.000000    1.000000   38.000000    1.000000    0.000000   \n",
       "max      1.000000    3.000000    1.000000   80.000000    8.000000    6.000000   \n",
       "\n",
       "             fare  \n",
       "count  891.000000  \n",
       "mean    32.204208  \n",
       "std     49.693429  \n",
       "min      0.000000  \n",
       "25%      7.910400  \n",
       "50%     14.454200  \n",
       "75%     31.000000  \n",
       "max    512.329200  "
      ]
     },
     "execution_count": 17,
     "metadata": {},
     "output_type": "execute_result"
    }
   ],
   "source": [
    "df.describe()"
   ]
  },
  {
   "cell_type": "code",
   "execution_count": 18,
   "id": "692f9715",
   "metadata": {
    "colab": {
     "base_uri": "https://localhost:8080/"
    },
    "executionInfo": {
     "elapsed": 6,
     "status": "ok",
     "timestamp": 1685256992001,
     "user": {
      "displayName": "charan mohan",
      "userId": "10524277483295619477"
     },
     "user_tz": -330
    },
    "id": "692f9715",
    "outputId": "0be15625-13f3-47b2-e146-702be89369b5",
    "scrolled": true
   },
   "outputs": [
    {
     "data": {
      "text/plain": [
       "survived         0\n",
       "pclass           0\n",
       "sex              0\n",
       "age            177\n",
       "sibsp            0\n",
       "parch            0\n",
       "fare             0\n",
       "embarked         2\n",
       "class            0\n",
       "who              0\n",
       "adult_male       0\n",
       "deck           688\n",
       "embark_town      2\n",
       "alive            0\n",
       "alone            0\n",
       "dtype: int64"
      ]
     },
     "execution_count": 18,
     "metadata": {},
     "output_type": "execute_result"
    }
   ],
   "source": [
    "# 4.Handle the Missing values.\n",
    "df.isnull().sum()"
   ]
  },
  {
   "cell_type": "code",
   "execution_count": 19,
   "id": "166e4bbd",
   "metadata": {},
   "outputs": [
    {
     "name": "stdout",
     "output_type": "stream",
     "text": [
      "   survived  pclass  sex   age  sibsp  parch     fare embarked  class    who  \\\n",
      "0         0       3    1  22.0      1      0   7.2500        S  Third    man   \n",
      "1         1       1    0  38.0      1      0  71.2833        C  First  woman   \n",
      "2         1       3    0  26.0      0      0   7.9250        S  Third  woman   \n",
      "3         1       1    0  35.0      1      0  53.1000        S  First  woman   \n",
      "4         0       3    1  35.0      0      0   8.0500        S  Third    man   \n",
      "\n",
      "   adult_male deck  embark_town alive  alone  \n",
      "0        True  NaN  Southampton    no  False  \n",
      "1       False    C    Cherbourg   yes  False  \n",
      "2       False  NaN  Southampton   yes   True  \n",
      "3       False    C  Southampton   yes  False  \n",
      "4        True  NaN  Southampton    no   True  \n"
     ]
    }
   ],
   "source": [
    "print(df.head())"
   ]
  },
  {
   "cell_type": "code",
   "execution_count": 20,
   "id": "9f9f3d47",
   "metadata": {},
   "outputs": [],
   "source": [
    "df = df.ffill()"
   ]
  },
  {
   "cell_type": "code",
   "execution_count": 21,
   "id": "4f736be3",
   "metadata": {},
   "outputs": [
    {
     "name": "stdout",
     "output_type": "stream",
     "text": [
      "     survived  pclass  sex   age  sibsp  parch     fare embarked   class  \\\n",
      "0           0       3    1  22.0      1      0   7.2500        S   Third   \n",
      "1           1       1    0  38.0      1      0  71.2833        C   First   \n",
      "2           1       3    0  26.0      0      0   7.9250        S   Third   \n",
      "3           1       1    0  35.0      1      0  53.1000        S   First   \n",
      "4           0       3    1  35.0      0      0   8.0500        S   Third   \n",
      "..        ...     ...  ...   ...    ...    ...      ...      ...     ...   \n",
      "886         0       2    1  27.0      0      0  13.0000        S  Second   \n",
      "887         1       1    0  19.0      0      0  30.0000        S   First   \n",
      "888         0       3    0  19.0      1      2  23.4500        S   Third   \n",
      "889         1       1    1  26.0      0      0  30.0000        C   First   \n",
      "890         0       3    1  32.0      0      0   7.7500        Q   Third   \n",
      "\n",
      "       who  adult_male deck  embark_town alive  alone  \n",
      "0      man        True  NaN  Southampton    no  False  \n",
      "1    woman       False    C    Cherbourg   yes  False  \n",
      "2    woman       False    C  Southampton   yes   True  \n",
      "3    woman       False    C  Southampton   yes  False  \n",
      "4      man        True    C  Southampton    no   True  \n",
      "..     ...         ...  ...          ...   ...    ...  \n",
      "886    man        True    C  Southampton    no   True  \n",
      "887  woman       False    B  Southampton   yes   True  \n",
      "888  woman       False    B  Southampton    no  False  \n",
      "889    man        True    C    Cherbourg   yes   True  \n",
      "890    man        True    C   Queenstown    no   True  \n",
      "\n",
      "[891 rows x 15 columns]\n"
     ]
    }
   ],
   "source": [
    "print(df)"
   ]
  },
  {
   "cell_type": "code",
   "execution_count": 22,
   "id": "f6cb699a",
   "metadata": {
    "executionInfo": {
     "elapsed": 596,
     "status": "ok",
     "timestamp": 1685256997748,
     "user": {
      "displayName": "charan mohan",
      "userId": "10524277483295619477"
     },
     "user_tz": -330
    },
    "id": "f6cb699a"
   },
   "outputs": [],
   "source": [
    "#6.Find the outliers and replace the outliers\n",
    "target_column = 'survived'\n",
    "Q1 = df[target_column].quantile(0.25)\n",
    "Q3 = df[target_column].quantile(0.75)\n",
    "IQR = Q3 - Q1"
   ]
  },
  {
   "cell_type": "code",
   "execution_count": 23,
   "id": "2fPDLmA403HU",
   "metadata": {
    "colab": {
     "base_uri": "https://localhost:8080/"
    },
    "executionInfo": {
     "elapsed": 9,
     "status": "ok",
     "timestamp": 1685257000687,
     "user": {
      "displayName": "charan mohan",
      "userId": "10524277483295619477"
     },
     "user_tz": -330
    },
    "id": "2fPDLmA403HU",
    "outputId": "c6b469a6-3e49-44ec-d8a7-8314d8b82e5b"
   },
   "outputs": [
    {
     "data": {
      "text/plain": [
       "1.0"
      ]
     },
     "execution_count": 23,
     "metadata": {},
     "output_type": "execute_result"
    }
   ],
   "source": [
    "IQR"
   ]
  },
  {
   "cell_type": "code",
   "execution_count": 24,
   "id": "L6b_fT6K08Eg",
   "metadata": {
    "executionInfo": {
     "elapsed": 6,
     "status": "ok",
     "timestamp": 1685257003419,
     "user": {
      "displayName": "charan mohan",
      "userId": "10524277483295619477"
     },
     "user_tz": -330
    },
    "id": "L6b_fT6K08Eg"
   },
   "outputs": [],
   "source": [
    "lower_bound = Q1 - 1.5 * IQR\n",
    "upper_bound = Q3 + 1.5 * IQR"
   ]
  },
  {
   "cell_type": "code",
   "execution_count": 25,
   "id": "hpPIDR6F1Bkb",
   "metadata": {
    "colab": {
     "base_uri": "https://localhost:8080/"
    },
    "executionInfo": {
     "elapsed": 361,
     "status": "ok",
     "timestamp": 1685257006365,
     "user": {
      "displayName": "charan mohan",
      "userId": "10524277483295619477"
     },
     "user_tz": -330
    },
    "id": "hpPIDR6F1Bkb",
    "outputId": "e9409c43-2a13-41d9-8376-1d0fd82daac4"
   },
   "outputs": [
    {
     "data": {
      "text/plain": [
       "-1.5"
      ]
     },
     "execution_count": 25,
     "metadata": {},
     "output_type": "execute_result"
    }
   ],
   "source": [
    "lower_bound"
   ]
  },
  {
   "cell_type": "code",
   "execution_count": 26,
   "id": "L2c4htPx1GEt",
   "metadata": {
    "colab": {
     "base_uri": "https://localhost:8080/"
    },
    "executionInfo": {
     "elapsed": 375,
     "status": "ok",
     "timestamp": 1685257009070,
     "user": {
      "displayName": "charan mohan",
      "userId": "10524277483295619477"
     },
     "user_tz": -330
    },
    "id": "L2c4htPx1GEt",
    "outputId": "0c020e62-8411-4d55-cb53-30b8f2adaee5"
   },
   "outputs": [
    {
     "data": {
      "text/plain": [
       "2.5"
      ]
     },
     "execution_count": 26,
     "metadata": {},
     "output_type": "execute_result"
    }
   ],
   "source": [
    "upper_bound"
   ]
  },
  {
   "cell_type": "code",
   "execution_count": 27,
   "id": "kWmdfseE1Pv0",
   "metadata": {
    "executionInfo": {
     "elapsed": 5,
     "status": "ok",
     "timestamp": 1685257011126,
     "user": {
      "displayName": "charan mohan",
      "userId": "10524277483295619477"
     },
     "user_tz": -330
    },
    "id": "kWmdfseE1Pv0"
   },
   "outputs": [],
   "source": [
    "outliers = df[(df[target_column] < lower_bound) | (df[target_column] > upper_bound)]"
   ]
  },
  {
   "cell_type": "code",
   "execution_count": 28,
   "id": "qCoi20Lx1WAd",
   "metadata": {
    "executionInfo": {
     "elapsed": 367,
     "status": "ok",
     "timestamp": 1685257014584,
     "user": {
      "displayName": "charan mohan",
      "userId": "10524277483295619477"
     },
     "user_tz": -330
    },
    "id": "qCoi20Lx1WAd"
   },
   "outputs": [],
   "source": [
    "median_value = df[target_column].median()\n",
    "df.loc[(df[target_column] < lower_bound) | (df[target_column] > upper_bound), target_column] = median_value"
   ]
  },
  {
   "cell_type": "code",
   "execution_count": 29,
   "id": "21bc7f80",
   "metadata": {
    "colab": {
     "base_uri": "https://localhost:8080/"
    },
    "executionInfo": {
     "elapsed": 359,
     "status": "ok",
     "timestamp": 1685257017166,
     "user": {
      "displayName": "charan mohan",
      "userId": "10524277483295619477"
     },
     "user_tz": -330
    },
    "id": "21bc7f80",
    "outputId": "0b9cda13-e3fe-4417-df10-76f9e5d28a40"
   },
   "outputs": [
    {
     "name": "stdout",
     "output_type": "stream",
     "text": [
      "     survived  pclass  sex   age  sibsp  parch     fare embarked   class  \\\n",
      "0           0       3    1  22.0      1      0   7.2500        S   Third   \n",
      "1           1       1    0  38.0      1      0  71.2833        C   First   \n",
      "2           1       3    0  26.0      0      0   7.9250        S   Third   \n",
      "3           1       1    0  35.0      1      0  53.1000        S   First   \n",
      "4           0       3    1  35.0      0      0   8.0500        S   Third   \n",
      "..        ...     ...  ...   ...    ...    ...      ...      ...     ...   \n",
      "886         0       2    1  27.0      0      0  13.0000        S  Second   \n",
      "887         1       1    0  19.0      0      0  30.0000        S   First   \n",
      "888         0       3    0  19.0      1      2  23.4500        S   Third   \n",
      "889         1       1    1  26.0      0      0  30.0000        C   First   \n",
      "890         0       3    1  32.0      0      0   7.7500        Q   Third   \n",
      "\n",
      "       who  adult_male deck  embark_town alive  alone  \n",
      "0      man        True  NaN  Southampton    no  False  \n",
      "1    woman       False    C    Cherbourg   yes  False  \n",
      "2    woman       False    C  Southampton   yes   True  \n",
      "3    woman       False    C  Southampton   yes  False  \n",
      "4      man        True    C  Southampton    no   True  \n",
      "..     ...         ...  ...          ...   ...    ...  \n",
      "886    man        True    C  Southampton    no   True  \n",
      "887  woman       False    B  Southampton   yes   True  \n",
      "888  woman       False    B  Southampton    no  False  \n",
      "889    man        True    C    Cherbourg   yes   True  \n",
      "890    man        True    C   Queenstown    no   True  \n",
      "\n",
      "[891 rows x 15 columns]\n"
     ]
    }
   ],
   "source": [
    "print(df)"
   ]
  },
  {
   "cell_type": "code",
   "execution_count": 30,
   "id": "7a74b4e8",
   "metadata": {
    "colab": {
     "base_uri": "https://localhost:8080/"
    },
    "executionInfo": {
     "elapsed": 457,
     "status": "ok",
     "timestamp": 1685257020763,
     "user": {
      "displayName": "charan mohan",
      "userId": "10524277483295619477"
     },
     "user_tz": -330
    },
    "id": "7a74b4e8",
    "outputId": "c848dddc-eb45-412f-a936-32a811999ee7"
   },
   "outputs": [
    {
     "data": {
      "text/plain": [
       "survived         int64\n",
       "pclass           int64\n",
       "sex               int8\n",
       "age            float64\n",
       "sibsp            int64\n",
       "parch            int64\n",
       "fare           float64\n",
       "embarked        object\n",
       "class           object\n",
       "who             object\n",
       "adult_male        bool\n",
       "deck            object\n",
       "embark_town     object\n",
       "alive           object\n",
       "alone             bool\n",
       "dtype: object"
      ]
     },
     "execution_count": 30,
     "metadata": {},
     "output_type": "execute_result"
    }
   ],
   "source": [
    "#7.Check for Categorical columns and perform encoding\n",
    "from sklearn.preprocessing import LabelEncoder\n",
    "df.dtypes\n"
   ]
  },
  {
   "cell_type": "code",
   "execution_count": 31,
   "id": "f9023d5b",
   "metadata": {
    "executionInfo": {
     "elapsed": 371,
     "status": "ok",
     "timestamp": 1685257024030,
     "user": {
      "displayName": "charan mohan",
      "userId": "10524277483295619477"
     },
     "user_tz": -330
    },
    "id": "f9023d5b"
   },
   "outputs": [],
   "source": [
    "categorical_columns = df.select_dtypes(include=['object']).columns\n",
    "df_encoded = pd.get_dummies(df, columns=categorical_columns)"
   ]
  },
  {
   "cell_type": "code",
   "execution_count": 32,
   "id": "ea305f5d",
   "metadata": {
    "colab": {
     "base_uri": "https://localhost:8080/"
    },
    "executionInfo": {
     "elapsed": 370,
     "status": "ok",
     "timestamp": 1685257026753,
     "user": {
      "displayName": "charan mohan",
      "userId": "10524277483295619477"
     },
     "user_tz": -330
    },
    "id": "ea305f5d",
    "outputId": "781774fa-9948-491c-9da1-b0fe01e83e9f"
   },
   "outputs": [
    {
     "name": "stdout",
     "output_type": "stream",
     "text": [
      "     survived  pclass  sex   age  sibsp  parch     fare  adult_male  alone  \\\n",
      "0           0       3    1  22.0      1      0   7.2500        True  False   \n",
      "1           1       1    0  38.0      1      0  71.2833       False  False   \n",
      "2           1       3    0  26.0      0      0   7.9250       False   True   \n",
      "3           1       1    0  35.0      1      0  53.1000       False  False   \n",
      "4           0       3    1  35.0      0      0   8.0500        True   True   \n",
      "..        ...     ...  ...   ...    ...    ...      ...         ...    ...   \n",
      "886         0       2    1  27.0      0      0  13.0000        True   True   \n",
      "887         1       1    0  19.0      0      0  30.0000       False   True   \n",
      "888         0       3    0  19.0      1      2  23.4500       False  False   \n",
      "889         1       1    1  26.0      0      0  30.0000        True   True   \n",
      "890         0       3    1  32.0      0      0   7.7500        True   True   \n",
      "\n",
      "     embarked_C  ...  deck_C  deck_D  deck_E  deck_F  deck_G  \\\n",
      "0             0  ...       0       0       0       0       0   \n",
      "1             1  ...       1       0       0       0       0   \n",
      "2             0  ...       1       0       0       0       0   \n",
      "3             0  ...       1       0       0       0       0   \n",
      "4             0  ...       1       0       0       0       0   \n",
      "..          ...  ...     ...     ...     ...     ...     ...   \n",
      "886           0  ...       1       0       0       0       0   \n",
      "887           0  ...       0       0       0       0       0   \n",
      "888           0  ...       0       0       0       0       0   \n",
      "889           1  ...       1       0       0       0       0   \n",
      "890           0  ...       1       0       0       0       0   \n",
      "\n",
      "     embark_town_Cherbourg  embark_town_Queenstown  embark_town_Southampton  \\\n",
      "0                        0                       0                        1   \n",
      "1                        1                       0                        0   \n",
      "2                        0                       0                        1   \n",
      "3                        0                       0                        1   \n",
      "4                        0                       0                        1   \n",
      "..                     ...                     ...                      ...   \n",
      "886                      0                       0                        1   \n",
      "887                      0                       0                        1   \n",
      "888                      0                       0                        1   \n",
      "889                      1                       0                        0   \n",
      "890                      0                       1                        0   \n",
      "\n",
      "     alive_no  alive_yes  \n",
      "0           1          0  \n",
      "1           0          1  \n",
      "2           0          1  \n",
      "3           0          1  \n",
      "4           1          0  \n",
      "..        ...        ...  \n",
      "886         1          0  \n",
      "887         0          1  \n",
      "888         1          0  \n",
      "889         0          1  \n",
      "890         1          0  \n",
      "\n",
      "[891 rows x 30 columns]\n"
     ]
    }
   ],
   "source": [
    "print(df_encoded)"
   ]
  },
  {
   "cell_type": "code",
   "execution_count": 33,
   "id": "237b095e",
   "metadata": {
    "colab": {
     "base_uri": "https://localhost:8080/"
    },
    "executionInfo": {
     "elapsed": 431,
     "status": "ok",
     "timestamp": 1685257031244,
     "user": {
      "displayName": "charan mohan",
      "userId": "10524277483295619477"
     },
     "user_tz": -330
    },
    "id": "237b095e",
    "outputId": "d2c7f5cb-2290-46ee-c8ec-b4b00afd9d36"
   },
   "outputs": [
    {
     "data": {
      "text/plain": [
       "Index(['embarked', 'class', 'who', 'deck', 'embark_town', 'alive'], dtype='object')"
      ]
     },
     "execution_count": 33,
     "metadata": {},
     "output_type": "execute_result"
    }
   ],
   "source": [
    "categorical_columns "
   ]
  },
  {
   "cell_type": "code",
   "execution_count": 34,
   "id": "eb992031",
   "metadata": {
    "executionInfo": {
     "elapsed": 413,
     "status": "ok",
     "timestamp": 1685257948088,
     "user": {
      "displayName": "charan mohan",
      "userId": "10524277483295619477"
     },
     "user_tz": -330
    },
    "id": "eb992031"
   },
   "outputs": [],
   "source": [
    "# 8.Split the data into dependent and independent variables.\n",
    "dependent_variable = 'survived'\n",
    "independent_variables = df.drop(dependent_variable, axis=1)\n",
    "dependent_variable = df[dependent_variable]"
   ]
  },
  {
   "cell_type": "code",
   "execution_count": 35,
   "id": "509d10fd",
   "metadata": {
    "colab": {
     "base_uri": "https://localhost:8080/"
    },
    "executionInfo": {
     "elapsed": 443,
     "status": "ok",
     "timestamp": 1685257950939,
     "user": {
      "displayName": "charan mohan",
      "userId": "10524277483295619477"
     },
     "user_tz": -330
    },
    "id": "509d10fd",
    "outputId": "648f8e69-11fa-4f91-9084-85aa83612c1c"
   },
   "outputs": [
    {
     "name": "stdout",
     "output_type": "stream",
     "text": [
      "     pclass  sex   age  sibsp  parch     fare embarked   class    who  \\\n",
      "0         3    1  22.0      1      0   7.2500        S   Third    man   \n",
      "1         1    0  38.0      1      0  71.2833        C   First  woman   \n",
      "2         3    0  26.0      0      0   7.9250        S   Third  woman   \n",
      "3         1    0  35.0      1      0  53.1000        S   First  woman   \n",
      "4         3    1  35.0      0      0   8.0500        S   Third    man   \n",
      "..      ...  ...   ...    ...    ...      ...      ...     ...    ...   \n",
      "886       2    1  27.0      0      0  13.0000        S  Second    man   \n",
      "887       1    0  19.0      0      0  30.0000        S   First  woman   \n",
      "888       3    0  19.0      1      2  23.4500        S   Third  woman   \n",
      "889       1    1  26.0      0      0  30.0000        C   First    man   \n",
      "890       3    1  32.0      0      0   7.7500        Q   Third    man   \n",
      "\n",
      "     adult_male deck  embark_town alive  alone  \n",
      "0          True  NaN  Southampton    no  False  \n",
      "1         False    C    Cherbourg   yes  False  \n",
      "2         False    C  Southampton   yes   True  \n",
      "3         False    C  Southampton   yes  False  \n",
      "4          True    C  Southampton    no   True  \n",
      "..          ...  ...          ...   ...    ...  \n",
      "886        True    C  Southampton    no   True  \n",
      "887       False    B  Southampton   yes   True  \n",
      "888       False    B  Southampton    no  False  \n",
      "889        True    C    Cherbourg   yes   True  \n",
      "890        True    C   Queenstown    no   True  \n",
      "\n",
      "[891 rows x 14 columns]\n"
     ]
    }
   ],
   "source": [
    "print(independent_variables)"
   ]
  },
  {
   "cell_type": "code",
   "execution_count": 36,
   "id": "db43f641",
   "metadata": {
    "colab": {
     "base_uri": "https://localhost:8080/"
    },
    "executionInfo": {
     "elapsed": 402,
     "status": "ok",
     "timestamp": 1685257956082,
     "user": {
      "displayName": "charan mohan",
      "userId": "10524277483295619477"
     },
     "user_tz": -330
    },
    "id": "db43f641",
    "outputId": "6638c453-6c8d-4b39-8f1e-15b6bdb74dcb"
   },
   "outputs": [
    {
     "name": "stdout",
     "output_type": "stream",
     "text": [
      "0      0\n",
      "1      1\n",
      "2      1\n",
      "3      1\n",
      "4      0\n",
      "      ..\n",
      "886    0\n",
      "887    1\n",
      "888    0\n",
      "889    1\n",
      "890    0\n",
      "Name: survived, Length: 891, dtype: int64\n"
     ]
    }
   ],
   "source": [
    "print(dependent_variable)"
   ]
  },
  {
   "cell_type": "code",
   "execution_count": 37,
   "id": "251fa5f9",
   "metadata": {
    "colab": {
     "base_uri": "https://localhost:8080/"
    },
    "executionInfo": {
     "elapsed": 368,
     "status": "ok",
     "timestamp": 1685257493679,
     "user": {
      "displayName": "charan mohan",
      "userId": "10524277483295619477"
     },
     "user_tz": -330
    },
    "id": "251fa5f9",
    "outputId": "18ff42e0-e68d-40f3-e943-ff6ec3397bab"
   },
   "outputs": [],
   "source": [
    "# 9.Scale the independent variables\n",
    "from sklearn.preprocessing import StandardScaler\n",
    "columns_to_scale = ['survived', 'pclass', 'sibsp']\n",
    "scaler = StandardScaler()\n",
    "df[columns_to_scale] = scaler.fit_transform(df[columns_to_scale])"
   ]
  },
  {
   "cell_type": "code",
   "execution_count": 38,
   "id": "491d4986",
   "metadata": {
    "colab": {
     "base_uri": "https://localhost:8080/"
    },
    "executionInfo": {
     "elapsed": 6,
     "status": "ok",
     "timestamp": 1685257505310,
     "user": {
      "displayName": "charan mohan",
      "userId": "10524277483295619477"
     },
     "user_tz": -330
    },
    "id": "491d4986",
    "outputId": "6da1ae8b-7367-41df-ac07-87bb4ba4c618"
   },
   "outputs": [
    {
     "name": "stdout",
     "output_type": "stream",
     "text": [
      "     survived    pclass  sex   age     sibsp  parch     fare embarked   class  \\\n",
      "0   -0.789272  0.827377    1  22.0  0.432793      0   7.2500        S   Third   \n",
      "1    1.266990 -1.566107    0  38.0  0.432793      0  71.2833        C   First   \n",
      "2    1.266990  0.827377    0  26.0 -0.474545      0   7.9250        S   Third   \n",
      "3    1.266990 -1.566107    0  35.0  0.432793      0  53.1000        S   First   \n",
      "4   -0.789272  0.827377    1  35.0 -0.474545      0   8.0500        S   Third   \n",
      "..        ...       ...  ...   ...       ...    ...      ...      ...     ...   \n",
      "886 -0.789272 -0.369365    1  27.0 -0.474545      0  13.0000        S  Second   \n",
      "887  1.266990 -1.566107    0  19.0 -0.474545      0  30.0000        S   First   \n",
      "888 -0.789272  0.827377    0  19.0  0.432793      2  23.4500        S   Third   \n",
      "889  1.266990 -1.566107    1  26.0 -0.474545      0  30.0000        C   First   \n",
      "890 -0.789272  0.827377    1  32.0 -0.474545      0   7.7500        Q   Third   \n",
      "\n",
      "       who  adult_male deck  embark_town alive  alone  \n",
      "0      man        True  NaN  Southampton    no  False  \n",
      "1    woman       False    C    Cherbourg   yes  False  \n",
      "2    woman       False    C  Southampton   yes   True  \n",
      "3    woman       False    C  Southampton   yes  False  \n",
      "4      man        True    C  Southampton    no   True  \n",
      "..     ...         ...  ...          ...   ...    ...  \n",
      "886    man        True    C  Southampton    no   True  \n",
      "887  woman       False    B  Southampton   yes   True  \n",
      "888  woman       False    B  Southampton    no  False  \n",
      "889    man        True    C    Cherbourg   yes   True  \n",
      "890    man        True    C   Queenstown    no   True  \n",
      "\n",
      "[891 rows x 15 columns]\n"
     ]
    }
   ],
   "source": [
    "print(df)"
   ]
  },
  {
   "cell_type": "code",
   "execution_count": 39,
   "id": "6082ef21",
   "metadata": {
    "id": "6082ef21"
   },
   "outputs": [],
   "source": [
    "#10.Split the data into training and testing\n",
    "from sklearn.model_selection import train_test_split\n",
    "X = df.drop('survived', axis=1)  \n",
    "y = df['survived']  \n",
    "X_train, X_test, y_train, y_test = train_test_split(X, y, test_size=0.25, random_state=42)"
   ]
  },
  {
   "cell_type": "code",
   "execution_count": 40,
   "id": "81465ee0",
   "metadata": {
    "colab": {
     "base_uri": "https://localhost:8080/",
     "height": 423
    },
    "executionInfo": {
     "elapsed": 384,
     "status": "ok",
     "timestamp": 1685252406169,
     "user": {
      "displayName": "charan mohan",
      "userId": "10524277483295619477"
     },
     "user_tz": -330
    },
    "id": "81465ee0",
    "outputId": "28cfce4b-2f8c-4bea-c2a3-6257a2f5a82d"
   },
   "outputs": [
    {
     "data": {
      "text/html": [
       "<div>\n",
       "<style scoped>\n",
       "    .dataframe tbody tr th:only-of-type {\n",
       "        vertical-align: middle;\n",
       "    }\n",
       "\n",
       "    .dataframe tbody tr th {\n",
       "        vertical-align: top;\n",
       "    }\n",
       "\n",
       "    .dataframe thead th {\n",
       "        text-align: right;\n",
       "    }\n",
       "</style>\n",
       "<table border=\"1\" class=\"dataframe\">\n",
       "  <thead>\n",
       "    <tr style=\"text-align: right;\">\n",
       "      <th></th>\n",
       "      <th>pclass</th>\n",
       "      <th>sex</th>\n",
       "      <th>age</th>\n",
       "      <th>sibsp</th>\n",
       "      <th>parch</th>\n",
       "      <th>fare</th>\n",
       "      <th>embarked</th>\n",
       "      <th>class</th>\n",
       "      <th>who</th>\n",
       "      <th>adult_male</th>\n",
       "      <th>deck</th>\n",
       "      <th>embark_town</th>\n",
       "      <th>alive</th>\n",
       "      <th>alone</th>\n",
       "    </tr>\n",
       "  </thead>\n",
       "  <tbody>\n",
       "    <tr>\n",
       "      <th>298</th>\n",
       "      <td>-1.566107</td>\n",
       "      <td>1</td>\n",
       "      <td>2.00</td>\n",
       "      <td>-0.474545</td>\n",
       "      <td>0</td>\n",
       "      <td>30.5000</td>\n",
       "      <td>S</td>\n",
       "      <td>First</td>\n",
       "      <td>man</td>\n",
       "      <td>True</td>\n",
       "      <td>C</td>\n",
       "      <td>Southampton</td>\n",
       "      <td>yes</td>\n",
       "      <td>True</td>\n",
       "    </tr>\n",
       "    <tr>\n",
       "      <th>884</th>\n",
       "      <td>0.827377</td>\n",
       "      <td>1</td>\n",
       "      <td>25.00</td>\n",
       "      <td>-0.474545</td>\n",
       "      <td>0</td>\n",
       "      <td>7.0500</td>\n",
       "      <td>S</td>\n",
       "      <td>Third</td>\n",
       "      <td>man</td>\n",
       "      <td>True</td>\n",
       "      <td>C</td>\n",
       "      <td>Southampton</td>\n",
       "      <td>no</td>\n",
       "      <td>True</td>\n",
       "    </tr>\n",
       "    <tr>\n",
       "      <th>247</th>\n",
       "      <td>-0.369365</td>\n",
       "      <td>0</td>\n",
       "      <td>24.00</td>\n",
       "      <td>-0.474545</td>\n",
       "      <td>2</td>\n",
       "      <td>14.5000</td>\n",
       "      <td>S</td>\n",
       "      <td>Second</td>\n",
       "      <td>woman</td>\n",
       "      <td>False</td>\n",
       "      <td>C</td>\n",
       "      <td>Southampton</td>\n",
       "      <td>yes</td>\n",
       "      <td>False</td>\n",
       "    </tr>\n",
       "    <tr>\n",
       "      <th>478</th>\n",
       "      <td>0.827377</td>\n",
       "      <td>1</td>\n",
       "      <td>22.00</td>\n",
       "      <td>-0.474545</td>\n",
       "      <td>0</td>\n",
       "      <td>7.5208</td>\n",
       "      <td>S</td>\n",
       "      <td>Third</td>\n",
       "      <td>man</td>\n",
       "      <td>True</td>\n",
       "      <td>A</td>\n",
       "      <td>Southampton</td>\n",
       "      <td>no</td>\n",
       "      <td>True</td>\n",
       "    </tr>\n",
       "    <tr>\n",
       "      <th>305</th>\n",
       "      <td>-1.566107</td>\n",
       "      <td>1</td>\n",
       "      <td>0.92</td>\n",
       "      <td>0.432793</td>\n",
       "      <td>2</td>\n",
       "      <td>151.5500</td>\n",
       "      <td>S</td>\n",
       "      <td>First</td>\n",
       "      <td>child</td>\n",
       "      <td>False</td>\n",
       "      <td>C</td>\n",
       "      <td>Southampton</td>\n",
       "      <td>yes</td>\n",
       "      <td>False</td>\n",
       "    </tr>\n",
       "    <tr>\n",
       "      <th>...</th>\n",
       "      <td>...</td>\n",
       "      <td>...</td>\n",
       "      <td>...</td>\n",
       "      <td>...</td>\n",
       "      <td>...</td>\n",
       "      <td>...</td>\n",
       "      <td>...</td>\n",
       "      <td>...</td>\n",
       "      <td>...</td>\n",
       "      <td>...</td>\n",
       "      <td>...</td>\n",
       "      <td>...</td>\n",
       "      <td>...</td>\n",
       "      <td>...</td>\n",
       "    </tr>\n",
       "    <tr>\n",
       "      <th>106</th>\n",
       "      <td>0.827377</td>\n",
       "      <td>0</td>\n",
       "      <td>21.00</td>\n",
       "      <td>-0.474545</td>\n",
       "      <td>0</td>\n",
       "      <td>7.6500</td>\n",
       "      <td>S</td>\n",
       "      <td>Third</td>\n",
       "      <td>woman</td>\n",
       "      <td>False</td>\n",
       "      <td>D</td>\n",
       "      <td>Southampton</td>\n",
       "      <td>yes</td>\n",
       "      <td>True</td>\n",
       "    </tr>\n",
       "    <tr>\n",
       "      <th>270</th>\n",
       "      <td>-1.566107</td>\n",
       "      <td>1</td>\n",
       "      <td>35.00</td>\n",
       "      <td>-0.474545</td>\n",
       "      <td>0</td>\n",
       "      <td>31.0000</td>\n",
       "      <td>S</td>\n",
       "      <td>First</td>\n",
       "      <td>man</td>\n",
       "      <td>True</td>\n",
       "      <td>C</td>\n",
       "      <td>Southampton</td>\n",
       "      <td>no</td>\n",
       "      <td>True</td>\n",
       "    </tr>\n",
       "    <tr>\n",
       "      <th>860</th>\n",
       "      <td>0.827377</td>\n",
       "      <td>1</td>\n",
       "      <td>41.00</td>\n",
       "      <td>1.340132</td>\n",
       "      <td>0</td>\n",
       "      <td>14.1083</td>\n",
       "      <td>S</td>\n",
       "      <td>Third</td>\n",
       "      <td>man</td>\n",
       "      <td>True</td>\n",
       "      <td>E</td>\n",
       "      <td>Southampton</td>\n",
       "      <td>no</td>\n",
       "      <td>False</td>\n",
       "    </tr>\n",
       "    <tr>\n",
       "      <th>435</th>\n",
       "      <td>-1.566107</td>\n",
       "      <td>0</td>\n",
       "      <td>14.00</td>\n",
       "      <td>0.432793</td>\n",
       "      <td>2</td>\n",
       "      <td>120.0000</td>\n",
       "      <td>S</td>\n",
       "      <td>First</td>\n",
       "      <td>child</td>\n",
       "      <td>False</td>\n",
       "      <td>B</td>\n",
       "      <td>Southampton</td>\n",
       "      <td>yes</td>\n",
       "      <td>False</td>\n",
       "    </tr>\n",
       "    <tr>\n",
       "      <th>102</th>\n",
       "      <td>-1.566107</td>\n",
       "      <td>1</td>\n",
       "      <td>21.00</td>\n",
       "      <td>-0.474545</td>\n",
       "      <td>1</td>\n",
       "      <td>77.2875</td>\n",
       "      <td>S</td>\n",
       "      <td>First</td>\n",
       "      <td>man</td>\n",
       "      <td>True</td>\n",
       "      <td>D</td>\n",
       "      <td>Southampton</td>\n",
       "      <td>no</td>\n",
       "      <td>False</td>\n",
       "    </tr>\n",
       "  </tbody>\n",
       "</table>\n",
       "<p>668 rows × 14 columns</p>\n",
       "</div>"
      ],
      "text/plain": [
       "       pclass  sex    age     sibsp  parch      fare embarked   class    who  \\\n",
       "298 -1.566107    1   2.00 -0.474545      0   30.5000        S   First    man   \n",
       "884  0.827377    1  25.00 -0.474545      0    7.0500        S   Third    man   \n",
       "247 -0.369365    0  24.00 -0.474545      2   14.5000        S  Second  woman   \n",
       "478  0.827377    1  22.00 -0.474545      0    7.5208        S   Third    man   \n",
       "305 -1.566107    1   0.92  0.432793      2  151.5500        S   First  child   \n",
       "..        ...  ...    ...       ...    ...       ...      ...     ...    ...   \n",
       "106  0.827377    0  21.00 -0.474545      0    7.6500        S   Third  woman   \n",
       "270 -1.566107    1  35.00 -0.474545      0   31.0000        S   First    man   \n",
       "860  0.827377    1  41.00  1.340132      0   14.1083        S   Third    man   \n",
       "435 -1.566107    0  14.00  0.432793      2  120.0000        S   First  child   \n",
       "102 -1.566107    1  21.00 -0.474545      1   77.2875        S   First    man   \n",
       "\n",
       "     adult_male deck  embark_town alive  alone  \n",
       "298        True    C  Southampton   yes   True  \n",
       "884        True    C  Southampton    no   True  \n",
       "247       False    C  Southampton   yes  False  \n",
       "478        True    A  Southampton    no   True  \n",
       "305       False    C  Southampton   yes  False  \n",
       "..          ...  ...          ...   ...    ...  \n",
       "106       False    D  Southampton   yes   True  \n",
       "270        True    C  Southampton    no   True  \n",
       "860        True    E  Southampton    no  False  \n",
       "435       False    B  Southampton   yes  False  \n",
       "102        True    D  Southampton    no  False  \n",
       "\n",
       "[668 rows x 14 columns]"
      ]
     },
     "execution_count": 40,
     "metadata": {},
     "output_type": "execute_result"
    }
   ],
   "source": [
    "X_train"
   ]
  },
  {
   "cell_type": "code",
   "execution_count": 41,
   "id": "LY2Sw21n3xNc",
   "metadata": {
    "colab": {
     "base_uri": "https://localhost:8080/",
     "height": 1000
    },
    "executionInfo": {
     "elapsed": 372,
     "status": "ok",
     "timestamp": 1685252421751,
     "user": {
      "displayName": "charan mohan",
      "userId": "10524277483295619477"
     },
     "user_tz": -330
    },
    "id": "LY2Sw21n3xNc",
    "outputId": "df932d2b-4c03-4bd8-9864-5350f1a5f857"
   },
   "outputs": [
    {
     "data": {
      "text/html": [
       "<div>\n",
       "<style scoped>\n",
       "    .dataframe tbody tr th:only-of-type {\n",
       "        vertical-align: middle;\n",
       "    }\n",
       "\n",
       "    .dataframe tbody tr th {\n",
       "        vertical-align: top;\n",
       "    }\n",
       "\n",
       "    .dataframe thead th {\n",
       "        text-align: right;\n",
       "    }\n",
       "</style>\n",
       "<table border=\"1\" class=\"dataframe\">\n",
       "  <thead>\n",
       "    <tr style=\"text-align: right;\">\n",
       "      <th></th>\n",
       "      <th>pclass</th>\n",
       "      <th>sex</th>\n",
       "      <th>age</th>\n",
       "      <th>sibsp</th>\n",
       "      <th>parch</th>\n",
       "      <th>fare</th>\n",
       "      <th>embarked</th>\n",
       "      <th>class</th>\n",
       "      <th>who</th>\n",
       "      <th>adult_male</th>\n",
       "      <th>deck</th>\n",
       "      <th>embark_town</th>\n",
       "      <th>alive</th>\n",
       "      <th>alone</th>\n",
       "    </tr>\n",
       "  </thead>\n",
       "  <tbody>\n",
       "    <tr>\n",
       "      <th>709</th>\n",
       "      <td>0.827377</td>\n",
       "      <td>1</td>\n",
       "      <td>22.0</td>\n",
       "      <td>0.432793</td>\n",
       "      <td>1</td>\n",
       "      <td>15.2458</td>\n",
       "      <td>C</td>\n",
       "      <td>Third</td>\n",
       "      <td>man</td>\n",
       "      <td>True</td>\n",
       "      <td>E</td>\n",
       "      <td>Cherbourg</td>\n",
       "      <td>yes</td>\n",
       "      <td>False</td>\n",
       "    </tr>\n",
       "    <tr>\n",
       "      <th>439</th>\n",
       "      <td>-0.369365</td>\n",
       "      <td>1</td>\n",
       "      <td>31.0</td>\n",
       "      <td>-0.474545</td>\n",
       "      <td>0</td>\n",
       "      <td>10.5000</td>\n",
       "      <td>S</td>\n",
       "      <td>Second</td>\n",
       "      <td>man</td>\n",
       "      <td>True</td>\n",
       "      <td>C</td>\n",
       "      <td>Southampton</td>\n",
       "      <td>no</td>\n",
       "      <td>True</td>\n",
       "    </tr>\n",
       "    <tr>\n",
       "      <th>840</th>\n",
       "      <td>0.827377</td>\n",
       "      <td>1</td>\n",
       "      <td>20.0</td>\n",
       "      <td>-0.474545</td>\n",
       "      <td>0</td>\n",
       "      <td>7.9250</td>\n",
       "      <td>S</td>\n",
       "      <td>Third</td>\n",
       "      <td>man</td>\n",
       "      <td>True</td>\n",
       "      <td>C</td>\n",
       "      <td>Southampton</td>\n",
       "      <td>no</td>\n",
       "      <td>True</td>\n",
       "    </tr>\n",
       "    <tr>\n",
       "      <th>720</th>\n",
       "      <td>-0.369365</td>\n",
       "      <td>0</td>\n",
       "      <td>6.0</td>\n",
       "      <td>-0.474545</td>\n",
       "      <td>1</td>\n",
       "      <td>33.0000</td>\n",
       "      <td>S</td>\n",
       "      <td>Second</td>\n",
       "      <td>child</td>\n",
       "      <td>False</td>\n",
       "      <td>E</td>\n",
       "      <td>Southampton</td>\n",
       "      <td>yes</td>\n",
       "      <td>False</td>\n",
       "    </tr>\n",
       "    <tr>\n",
       "      <th>39</th>\n",
       "      <td>0.827377</td>\n",
       "      <td>0</td>\n",
       "      <td>14.0</td>\n",
       "      <td>0.432793</td>\n",
       "      <td>0</td>\n",
       "      <td>11.2417</td>\n",
       "      <td>C</td>\n",
       "      <td>Third</td>\n",
       "      <td>child</td>\n",
       "      <td>False</td>\n",
       "      <td>B</td>\n",
       "      <td>Cherbourg</td>\n",
       "      <td>yes</td>\n",
       "      <td>False</td>\n",
       "    </tr>\n",
       "    <tr>\n",
       "      <th>...</th>\n",
       "      <td>...</td>\n",
       "      <td>...</td>\n",
       "      <td>...</td>\n",
       "      <td>...</td>\n",
       "      <td>...</td>\n",
       "      <td>...</td>\n",
       "      <td>...</td>\n",
       "      <td>...</td>\n",
       "      <td>...</td>\n",
       "      <td>...</td>\n",
       "      <td>...</td>\n",
       "      <td>...</td>\n",
       "      <td>...</td>\n",
       "      <td>...</td>\n",
       "    </tr>\n",
       "    <tr>\n",
       "      <th>880</th>\n",
       "      <td>-0.369365</td>\n",
       "      <td>0</td>\n",
       "      <td>25.0</td>\n",
       "      <td>-0.474545</td>\n",
       "      <td>1</td>\n",
       "      <td>26.0000</td>\n",
       "      <td>S</td>\n",
       "      <td>Second</td>\n",
       "      <td>woman</td>\n",
       "      <td>False</td>\n",
       "      <td>C</td>\n",
       "      <td>Southampton</td>\n",
       "      <td>yes</td>\n",
       "      <td>False</td>\n",
       "    </tr>\n",
       "    <tr>\n",
       "      <th>425</th>\n",
       "      <td>0.827377</td>\n",
       "      <td>1</td>\n",
       "      <td>18.0</td>\n",
       "      <td>-0.474545</td>\n",
       "      <td>0</td>\n",
       "      <td>7.2500</td>\n",
       "      <td>S</td>\n",
       "      <td>Third</td>\n",
       "      <td>man</td>\n",
       "      <td>True</td>\n",
       "      <td>C</td>\n",
       "      <td>Southampton</td>\n",
       "      <td>no</td>\n",
       "      <td>True</td>\n",
       "    </tr>\n",
       "    <tr>\n",
       "      <th>101</th>\n",
       "      <td>0.827377</td>\n",
       "      <td>1</td>\n",
       "      <td>28.0</td>\n",
       "      <td>-0.474545</td>\n",
       "      <td>0</td>\n",
       "      <td>7.8958</td>\n",
       "      <td>S</td>\n",
       "      <td>Third</td>\n",
       "      <td>man</td>\n",
       "      <td>True</td>\n",
       "      <td>D</td>\n",
       "      <td>Southampton</td>\n",
       "      <td>no</td>\n",
       "      <td>True</td>\n",
       "    </tr>\n",
       "    <tr>\n",
       "      <th>199</th>\n",
       "      <td>-0.369365</td>\n",
       "      <td>0</td>\n",
       "      <td>24.0</td>\n",
       "      <td>-0.474545</td>\n",
       "      <td>0</td>\n",
       "      <td>13.0000</td>\n",
       "      <td>S</td>\n",
       "      <td>Second</td>\n",
       "      <td>woman</td>\n",
       "      <td>False</td>\n",
       "      <td>B</td>\n",
       "      <td>Southampton</td>\n",
       "      <td>no</td>\n",
       "      <td>True</td>\n",
       "    </tr>\n",
       "    <tr>\n",
       "      <th>424</th>\n",
       "      <td>0.827377</td>\n",
       "      <td>1</td>\n",
       "      <td>18.0</td>\n",
       "      <td>0.432793</td>\n",
       "      <td>1</td>\n",
       "      <td>20.2125</td>\n",
       "      <td>S</td>\n",
       "      <td>Third</td>\n",
       "      <td>man</td>\n",
       "      <td>True</td>\n",
       "      <td>C</td>\n",
       "      <td>Southampton</td>\n",
       "      <td>no</td>\n",
       "      <td>False</td>\n",
       "    </tr>\n",
       "  </tbody>\n",
       "</table>\n",
       "<p>223 rows × 14 columns</p>\n",
       "</div>"
      ],
      "text/plain": [
       "       pclass  sex   age     sibsp  parch     fare embarked   class    who  \\\n",
       "709  0.827377    1  22.0  0.432793      1  15.2458        C   Third    man   \n",
       "439 -0.369365    1  31.0 -0.474545      0  10.5000        S  Second    man   \n",
       "840  0.827377    1  20.0 -0.474545      0   7.9250        S   Third    man   \n",
       "720 -0.369365    0   6.0 -0.474545      1  33.0000        S  Second  child   \n",
       "39   0.827377    0  14.0  0.432793      0  11.2417        C   Third  child   \n",
       "..        ...  ...   ...       ...    ...      ...      ...     ...    ...   \n",
       "880 -0.369365    0  25.0 -0.474545      1  26.0000        S  Second  woman   \n",
       "425  0.827377    1  18.0 -0.474545      0   7.2500        S   Third    man   \n",
       "101  0.827377    1  28.0 -0.474545      0   7.8958        S   Third    man   \n",
       "199 -0.369365    0  24.0 -0.474545      0  13.0000        S  Second  woman   \n",
       "424  0.827377    1  18.0  0.432793      1  20.2125        S   Third    man   \n",
       "\n",
       "     adult_male deck  embark_town alive  alone  \n",
       "709        True    E    Cherbourg   yes  False  \n",
       "439        True    C  Southampton    no   True  \n",
       "840        True    C  Southampton    no   True  \n",
       "720       False    E  Southampton   yes  False  \n",
       "39        False    B    Cherbourg   yes  False  \n",
       "..          ...  ...          ...   ...    ...  \n",
       "880       False    C  Southampton   yes  False  \n",
       "425        True    C  Southampton    no   True  \n",
       "101        True    D  Southampton    no   True  \n",
       "199       False    B  Southampton    no   True  \n",
       "424        True    C  Southampton    no  False  \n",
       "\n",
       "[223 rows x 14 columns]"
      ]
     },
     "execution_count": 41,
     "metadata": {},
     "output_type": "execute_result"
    }
   ],
   "source": [
    "X_test"
   ]
  },
  {
   "cell_type": "code",
   "execution_count": 42,
   "id": "iNsWtOQs32Ul",
   "metadata": {
    "colab": {
     "base_uri": "https://localhost:8080/"
    },
    "executionInfo": {
     "elapsed": 371,
     "status": "ok",
     "timestamp": 1685252456135,
     "user": {
      "displayName": "charan mohan",
      "userId": "10524277483295619477"
     },
     "user_tz": -330
    },
    "id": "iNsWtOQs32Ul",
    "outputId": "b8c22674-9a49-46f0-e007-e0f9471baf58"
   },
   "outputs": [
    {
     "data": {
      "text/plain": [
       "298    1.266990\n",
       "884   -0.789272\n",
       "247    1.266990\n",
       "478   -0.789272\n",
       "305    1.266990\n",
       "         ...   \n",
       "106    1.266990\n",
       "270   -0.789272\n",
       "860   -0.789272\n",
       "435    1.266990\n",
       "102   -0.789272\n",
       "Name: survived, Length: 668, dtype: float64"
      ]
     },
     "execution_count": 42,
     "metadata": {},
     "output_type": "execute_result"
    }
   ],
   "source": [
    "y_train"
   ]
  },
  {
   "cell_type": "code",
   "execution_count": 43,
   "id": "PNeUnwGI381k",
   "metadata": {
    "colab": {
     "base_uri": "https://localhost:8080/"
    },
    "executionInfo": {
     "elapsed": 7,
     "status": "ok",
     "timestamp": 1685252471785,
     "user": {
      "displayName": "charan mohan",
      "userId": "10524277483295619477"
     },
     "user_tz": -330
    },
    "id": "PNeUnwGI381k",
    "outputId": "f78ceb82-2f4f-4233-aa58-733419d5f382"
   },
   "outputs": [
    {
     "data": {
      "text/plain": [
       "709    1.266990\n",
       "439   -0.789272\n",
       "840   -0.789272\n",
       "720    1.266990\n",
       "39     1.266990\n",
       "         ...   \n",
       "880    1.266990\n",
       "425   -0.789272\n",
       "101   -0.789272\n",
       "199   -0.789272\n",
       "424   -0.789272\n",
       "Name: survived, Length: 223, dtype: float64"
      ]
     },
     "execution_count": 43,
     "metadata": {},
     "output_type": "execute_result"
    }
   ],
   "source": [
    "y_test"
   ]
  }
 ],
 "metadata": {
  "colab": {
   "provenance": []
  },
  "kernelspec": {
   "display_name": "Python 3 (ipykernel)",
   "language": "python",
   "name": "python3"
  },
  "language_info": {
   "codemirror_mode": {
    "name": "ipython",
    "version": 3
   },
   "file_extension": ".py",
   "mimetype": "text/x-python",
   "name": "python",
   "nbconvert_exporter": "python",
   "pygments_lexer": "ipython3",
   "version": "3.9.12"
  }
 },
 "nbformat": 4,
 "nbformat_minor": 5
}
